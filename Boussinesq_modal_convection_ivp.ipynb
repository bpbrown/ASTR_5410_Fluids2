{
 "cells": [
  {
   "cell_type": "code",
   "execution_count": null,
   "id": "e9003078",
   "metadata": {},
   "outputs": [],
   "source": [
    "import numpy as np\n",
    "import dedalus.public as d3\n",
    "import matplotlib.pyplot as plt\n",
    "import logging\n",
    "logger = logging.getLogger(__name__)\n",
    "%config InlineBackend.figure_format = 'retina'"
   ]
  },
  {
   "cell_type": "code",
   "execution_count": null,
   "id": "2b1006cd",
   "metadata": {},
   "outputs": [],
   "source": [
    "a = 1\n",
    "C = 6**(-1/2)\n",
    "\n",
    "σ = 1\n",
    "R = 1e5\n",
    "\n",
    "# most solutions in Toomre, Gough & Speigel use \"rigid boundary conditions\"\n",
    "rigid = True"
   ]
  },
  {
   "cell_type": "code",
   "execution_count": null,
   "id": "b8ce0989",
   "metadata": {},
   "outputs": [],
   "source": [
    "nz = 256\n",
    "Lz = 1\n",
    "dealias = 3/2\n",
    "dtype = np.float64\n",
    "coord = d3.Coordinate('z') #d3.CartesianCoordinates(['z'])\n",
    "dist = d3.Distributor(coord, dtype=dtype)\n",
    "zbasis = d3.ChebyshevT(coord, size=nz, bounds=(0, Lz), dealias=dealias)\n",
    "\n",
    "W = dist.Field(name='W', bases=zbasis)\n",
    "θ = dist.Field(name='θ', bases=zbasis)\n",
    "T0 = dist.Field(name='T0', bases=zbasis)\n",
    "τ1 = dist.Field(name='τ1')\n",
    "τ2 = dist.Field(name='τ2')\n",
    "τ3 = dist.Field(name='τ3')\n",
    "τ4 = dist.Field(name='τ4')\n",
    "τ5 = dist.Field(name='τ5')\n",
    "τ6 = dist.Field(name='τ6')\n",
    "τ7 = dist.Field(name='τ7')\n",
    "τ8 = dist.Field(name='τ8')\n",
    "\n",
    "\n",
    "# Substitutions\n",
    "dz = lambda A: d3.Differentiate(A, coord)\n",
    "\n",
    "lift_basis = zbasis.derivative_basis(1)\n",
    "lift = lambda A, n: d3.Lift(A, lift_basis, n)\n",
    "\n",
    "D = lambda A: dz(dz(A))-a**2*A"
   ]
  },
  {
   "cell_type": "code",
   "execution_count": null,
   "id": "97c68024",
   "metadata": {},
   "outputs": [],
   "source": [
    "# Problem\n",
    "problem = d3.IVP([W, θ, T0, τ1, τ2, τ3, τ4, τ5, τ6, τ7, τ8], namespace=locals())\n",
    "problem.add_equation(\"1/σ*dt(D(W)) - D(D(W)) + R*a**2*θ + lift(τ1, -1) + lift(τ2, -2) + lift(τ3, -3) + lift(τ4, -4) = -(C/σ)*(2*dz(W)*D(W) + W*D(dz(W)))\")\n",
    "problem.add_equation(\"dt(θ) - D(θ) + lift(τ5, -1) + lift(τ6, -2) = -dz(T0)*W - C*(2*W*dz(θ) + θ*dz(W))\")\n",
    "problem.add_equation(\"dt(T0) - dz(dz(T0)) + lift(τ7, -1) + lift(τ8, -2) = -dz(W*θ)\")\n",
    "\n",
    "problem.add_equation(\"T0(z=0) = 1\")\n",
    "problem.add_equation(\"θ(z=0) = 0\")\n",
    "problem.add_equation(\"W(z=0) = 0\")\n",
    "problem.add_equation(\"T0(z=Lz) = 0\")\n",
    "problem.add_equation(\"θ(z=Lz) = 0\")\n",
    "problem.add_equation(\"W(z=Lz) = 0\")\n",
    "if rigid:\n",
    "    problem.add_equation(\"dz(W)(z=0) = 0\")\n",
    "    problem.add_equation(\"dz(W)(z=Lz) = 0\")\n",
    "else:\n",
    "    # stress-free\n",
    "    problem.add_equation(\"dz(dz(W))(z=0) = 0\")\n",
    "    problem.add_equation(\"dz(dz(W))(z=Lz) = 0\")"
   ]
  },
  {
   "cell_type": "code",
   "execution_count": null,
   "id": "886d1dea",
   "metadata": {},
   "outputs": [],
   "source": [
    "z = dist.local_grid(zbasis)\n",
    "T0['g'] = Lz - z\n",
    "W['g'] = np.sin(z/Lz*np.pi)\n",
    "θ['g'] = np.sin(z/Lz*np.pi)+0.1*np.sin(z/Lz*3*np.pi)"
   ]
  },
  {
   "cell_type": "code",
   "execution_count": null,
   "id": "3174ffd5",
   "metadata": {},
   "outputs": [],
   "source": [
    "timestepper = d3.SBDF2\n",
    "solver = problem.build_solver(timestepper)\n",
    "solver.stop_sim_time = 1\n",
    "Δt = 5e-4\n",
    "\n",
    "# max_timestep = 1e-2\n",
    "\n",
    "# CFL = d3.CFL(solver, initial_dt=max_timestep, cadence=10, safety=0.5, threshold=0.05,\n",
    "#              max_change=1.5, min_change=0.5, max_dt=max_timestep)\n",
    "# CFL.add_velocity(W)"
   ]
  },
  {
   "cell_type": "code",
   "execution_count": null,
   "id": "ccc346f4",
   "metadata": {},
   "outputs": [],
   "source": [
    "for system in ['subsystems', 'solvers']:\n",
    "    logging.getLogger(system).setLevel(logging.WARNING)\n",
    "\n",
    "good_solution = True\n",
    "while solver.proceed and good_solution:\n",
    "    solver.step(Δt)\n",
    "#     timestep = CFL.compute_timestep()\n",
    "    if solver.sim_time % 0.1 < (0 + Δt):\n",
    "        N = (W*θ - dz(T0)).evaluate()['g'][0]\n",
    "        logger.info(\"iter = {:d}, Δt = {:.2g}, t = {:.2g}, N = {:.2g}\".format(solver.iteration, Δt, solver.sim_time, N))\n",
    "        good_solution = np.isfinite(N)\n",
    "#         print(timestep)"
   ]
  },
  {
   "cell_type": "code",
   "execution_count": null,
   "id": "165d4257",
   "metadata": {},
   "outputs": [],
   "source": [
    "for field in [W, θ, T0]:\n",
    "    field.change_scales(1)\n",
    "\n",
    "fig, ax = plt.subplots()\n",
    "ax.plot(z, W['g']/np.max(W['g']), linestyle='dashdot', label=r'$W$')\n",
    "ax.plot(z, θ['g']/np.max(θ['g']), linestyle='dashed', label=r'$\\theta$')\n",
    "ax.plot(z, T0['g'], label=r'$\\overline{T}$')\n",
    "ax.legend()\n",
    "ax.set_xlabel('z')\n",
    "ax.set_ylabel('f')\n"
   ]
  },
  {
   "cell_type": "code",
   "execution_count": null,
   "id": "944c41b4",
   "metadata": {},
   "outputs": [],
   "source": [
    "W_ref = 26.8\n",
    "θ_ref = 0.204\n",
    "N_ref = 3.2\n",
    "\n",
    "N = (W*θ - dz(T0)).evaluate()['g'][0]\n",
    "print(\"θ = {:g} vs {:g}\".format(np.max(θ['g']), θ_ref))\n",
    "print(\"W = {:g} vs {:g}\".format(np.max(W['g']), W_ref))\n",
    "print(\"N = {:g} vs {:g}\".format(N, N_ref))"
   ]
  }
 ],
 "metadata": {
  "kernelspec": {
   "display_name": "Python 3 (ipykernel)",
   "language": "python",
   "name": "python3"
  },
  "language_info": {
   "codemirror_mode": {
    "name": "ipython",
    "version": 3
   },
   "file_extension": ".py",
   "mimetype": "text/x-python",
   "name": "python",
   "nbconvert_exporter": "python",
   "pygments_lexer": "ipython3",
   "version": "3.8.10"
  }
 },
 "nbformat": 4,
 "nbformat_minor": 5
}
