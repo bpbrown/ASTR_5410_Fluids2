{
 "cells": [
  {
   "cell_type": "code",
   "execution_count": null,
   "id": "16cc8d02",
   "metadata": {},
   "outputs": [],
   "source": [
    "import numpy as np\n",
    "import dedalus.public as d3\n",
    "import matplotlib.pyplot as plt\n",
    "import logging\n",
    "logger = logging.getLogger(__name__)\n",
    "%config InlineBackend.figure_format = 'retina'"
   ]
  },
  {
   "cell_type": "code",
   "execution_count": null,
   "id": "b911e57d",
   "metadata": {},
   "outputs": [],
   "source": [
    "a = 1\n",
    "C = 6**(-1/2)\n",
    "\n",
    "σ = 1\n",
    "R = 1e5\n",
    "\n",
    "# most solutions in Toomre, Gough & Speigel use \"rigid boundary conditions\"\n",
    "rigid = True"
   ]
  },
  {
   "cell_type": "code",
   "execution_count": null,
   "id": "c680d00b",
   "metadata": {},
   "outputs": [],
   "source": [
    "nz = 256\n",
    "Lz = 1\n",
    "dealias = 3/2\n",
    "dtype = np.float64\n",
    "coord = d3.Coordinate('z') #d3.CartesianCoordinates(['z'])\n",
    "dist = d3.Distributor(coord, dtype=dtype)\n",
    "zbasis = d3.ChebyshevT(coord, size=nz, bounds=(0, Lz), dealias=dealias)\n",
    "\n",
    "W = dist.Field(name='W', bases=zbasis)\n",
    "θ = dist.Field(name='θ', bases=zbasis)\n",
    "T0 = dist.Field(name='T0', bases=zbasis)\n",
    "τ1 = dist.Field(name='τ1')\n",
    "τ2 = dist.Field(name='τ2')\n",
    "τ3 = dist.Field(name='τ3')\n",
    "τ4 = dist.Field(name='τ4')\n",
    "τ5 = dist.Field(name='τ5')\n",
    "τ6 = dist.Field(name='τ6')\n",
    "τ7 = dist.Field(name='τ7')\n",
    "τ8 = dist.Field(name='τ8')\n",
    "\n",
    "\n",
    "# Substitutions\n",
    "dz = lambda A: d3.Differentiate(A, coord)\n",
    "\n",
    "lift_basis = zbasis.derivative_basis(1)\n",
    "lift = lambda A, n: d3.Lift(A, lift_basis, n)\n",
    "\n",
    "D = lambda A: dz(dz(A))-a**2*A"
   ]
  },
  {
   "cell_type": "code",
   "execution_count": null,
   "id": "a029b00f",
   "metadata": {},
   "outputs": [],
   "source": [
    "# Problem\n",
    "dt = lambda A: 0*A # search for steady solution\n",
    "\n",
    "problem = d3.NLBVP([W, θ, T0, τ1, τ2, τ3, τ4, τ5, τ6, τ7, τ8], namespace=locals())\n",
    "problem.add_equation(\"1/σ*dt(D(W)) - D(D(W)) + R*a**2*θ + lift(τ1, -1) + lift(τ2, -2) + lift(τ3, -3) + lift(τ4, -4) = -(C/σ)*(2*dz(W)*D(W) + W*D(dz(W)))\")\n",
    "problem.add_equation(\"dt(θ) - D(θ) + lift(τ5, -1) + lift(τ6, -2) = -dz(T0)*W - C*(2*W*dz(θ) + θ*dz(W))\")\n",
    "problem.add_equation(\"dt(T0) - dz(dz(T0)) + lift(τ7, -1) + lift(τ8, -2) = -dz(W*θ)\")\n",
    "\n",
    "problem.add_equation(\"T0(z=0) = 1\")\n",
    "problem.add_equation(\"θ(z=0) = 0\")\n",
    "problem.add_equation(\"W(z=0) = 0\")\n",
    "problem.add_equation(\"T0(z=Lz) = 0\")\n",
    "problem.add_equation(\"θ(z=Lz) = 0\")\n",
    "problem.add_equation(\"W(z=Lz) = 0\")\n",
    "if rigid:\n",
    "    problem.add_equation(\"dz(W)(z=0) = 0\")\n",
    "    problem.add_equation(\"dz(W)(z=Lz) = 0\")\n",
    "else:\n",
    "    # stress-free\n",
    "    problem.add_equation(\"dz(dz(W))(z=0) = 0\")\n",
    "    problem.add_equation(\"dz(dz(W))(z=Lz) = 0\")"
   ]
  },
  {
   "cell_type": "code",
   "execution_count": null,
   "id": "06c235d3",
   "metadata": {},
   "outputs": [],
   "source": [
    "z = dist.local_grid(zbasis)\n",
    "T0['g'] = Lz - z\n",
    "W['g'] = 30*(np.sin(z/Lz*np.pi))\n",
    "θ['g'] = np.sin(z/Lz*np.pi)+0.1*np.sin(z/Lz*3*np.pi)"
   ]
  },
  {
   "cell_type": "code",
   "execution_count": null,
   "id": "dc83739e",
   "metadata": {},
   "outputs": [],
   "source": [
    "solver = problem.build_solver()"
   ]
  },
  {
   "cell_type": "code",
   "execution_count": null,
   "id": "a302914c",
   "metadata": {},
   "outputs": [],
   "source": [
    "for system in ['subsystems', 'solvers']:\n",
    "    logging.getLogger(system).setLevel(logging.WARNING)\n",
    "pert_norm = np.inf\n",
    "tolerance = 1e-6\n",
    "while pert_norm > tolerance:\n",
    "    solver.newton_iteration()\n",
    "    pert_norm = sum(pert.allreduce_data_norm('c', 2) for pert in solver.perturbations)\n",
    "    N = (W*θ - dz(T0)).evaluate()['g'][0]\n",
    "    logger.info('Perturbation norm: {:.3e}, N = {:g}'.format(pert_norm, N))"
   ]
  },
  {
   "cell_type": "code",
   "execution_count": null,
   "id": "5ed10b21",
   "metadata": {},
   "outputs": [],
   "source": [
    "for field in [W, θ, T0]:\n",
    "    field.change_scales(1)\n",
    "\n",
    "fig, ax = plt.subplots()\n",
    "ax.plot(z, W['g']/np.max(W['g']), linestyle='dashdot')\n",
    "ax.plot(z, θ['g']/np.max(θ['g']), linestyle='dashed')\n",
    "ax.plot(z, T0['g'])\n"
   ]
  },
  {
   "cell_type": "code",
   "execution_count": null,
   "id": "5a04c0b0",
   "metadata": {},
   "outputs": [],
   "source": [
    "N = (W*θ - dz(T0)).evaluate()['g'][0]\n",
    "print(\"θ = {:g}\".format(np.max(θ['g'])))\n",
    "print(\"W = {:g}\".format(np.max(W['g'])))\n",
    "print(\"N = {:g}\".format(N))"
   ]
  }
 ],
 "metadata": {
  "kernelspec": {
   "display_name": "Python 3 (ipykernel)",
   "language": "python",
   "name": "python3"
  },
  "language_info": {
   "codemirror_mode": {
    "name": "ipython",
    "version": 3
   },
   "file_extension": ".py",
   "mimetype": "text/x-python",
   "name": "python",
   "nbconvert_exporter": "python",
   "pygments_lexer": "ipython3",
   "version": "3.8.10"
  }
 },
 "nbformat": 4,
 "nbformat_minor": 5
}
