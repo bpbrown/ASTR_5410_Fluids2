{
 "cells": [
  {
   "cell_type": "code",
   "execution_count": null,
   "id": "16cc8d02",
   "metadata": {},
   "outputs": [],
   "source": [
    "import numpy as np\n",
    "import dedalus.public as d3\n",
    "import matplotlib.pyplot as plt\n",
    "import logging\n",
    "logger = logging.getLogger(__name__)\n",
    "%config InlineBackend.figure_format = 'retina'"
   ]
  },
  {
   "cell_type": "code",
   "execution_count": null,
   "id": "b911e57d",
   "metadata": {},
   "outputs": [],
   "source": [
    "C = 6**(-1/2)\n",
    "σ = 1\n",
    "\n",
    "# most solutions in Toomre, Gough & Speigel use \"rigid boundary conditions\"\n",
    "rigid = True"
   ]
  },
  {
   "cell_type": "code",
   "execution_count": null,
   "id": "c680d00b",
   "metadata": {},
   "outputs": [],
   "source": [
    "nz = 256\n",
    "Lz = 1\n",
    "dealias = 3/2\n",
    "dtype = np.float64\n",
    "coord = d3.Coordinate('z') #d3.CartesianCoordinates(['z'])\n",
    "dist = d3.Distributor(coord, dtype=dtype)\n",
    "zbasis = d3.ChebyshevT(coord, size=nz, bounds=(0, Lz), dealias=dealias)\n",
    "\n",
    "W = dist.Field(name='W', bases=zbasis)\n",
    "θ = dist.Field(name='θ', bases=zbasis)\n",
    "T0 = dist.Field(name='T0', bases=zbasis)\n",
    "τ1 = dist.Field(name='τ1')\n",
    "τ2 = dist.Field(name='τ2')\n",
    "τ3 = dist.Field(name='τ3')\n",
    "τ4 = dist.Field(name='τ4')\n",
    "τ5 = dist.Field(name='τ5')\n",
    "τ6 = dist.Field(name='τ6')\n",
    "τ7 = dist.Field(name='τ7')\n",
    "τ8 = dist.Field(name='τ8')\n",
    "\n",
    "R = dist.Field(name='R')\n",
    "\n",
    "a = dist.Field(name='a')\n",
    "a['g'] = 1\n",
    "\n",
    "# Substitutions\n",
    "dz = lambda A: d3.Differentiate(A, coord)\n",
    "\n",
    "lift_basis = zbasis.derivative_basis(1)\n",
    "lift = lambda A, n: d3.Lift(A, lift_basis, n)\n",
    "\n",
    "D = lambda A: dz(dz(A))-a**2*A"
   ]
  },
  {
   "cell_type": "code",
   "execution_count": null,
   "id": "a029b00f",
   "metadata": {},
   "outputs": [],
   "source": [
    "# Problem\n",
    "dt = lambda A: 0*A # search for steady solution\n",
    "\n",
    "problem = d3.EVP([W, θ, τ1, τ2, τ3, τ4, τ5, τ6], eigenvalue=R, namespace=locals())\n",
    "problem.add_equation(\"1/σ*dt(D(W)) - D(D(W)) + R*a**2*θ + lift(τ1, -1) + lift(τ2, -2) + lift(τ3, -3) + lift(τ4, -4) = 0\")\n",
    "problem.add_equation(\"dt(θ) - D(θ) + dz(T0)*W + lift(τ5, -1) + lift(τ6, -2) = 0\")\n",
    "\n",
    "problem.add_equation(\"θ(z=0) = 0\")\n",
    "problem.add_equation(\"W(z=0) = 0\")\n",
    "problem.add_equation(\"θ(z=Lz) = 0\")\n",
    "problem.add_equation(\"W(z=Lz) = 0\")\n",
    "if rigid:\n",
    "    problem.add_equation(\"dz(W)(z=0) = 0\")\n",
    "    problem.add_equation(\"dz(W)(z=Lz) = 0\")\n",
    "else:\n",
    "    # stress-free\n",
    "    problem.add_equation(\"dz(dz(W))(z=0) = 0\")\n",
    "    problem.add_equation(\"dz(dz(W))(z=Lz) = 0\")"
   ]
  },
  {
   "cell_type": "code",
   "execution_count": null,
   "id": "06c235d3",
   "metadata": {},
   "outputs": [],
   "source": [
    "z = dist.local_grid(zbasis)\n",
    "T0['g'] = Lz - z"
   ]
  },
  {
   "cell_type": "code",
   "execution_count": null,
   "id": "dc83739e",
   "metadata": {},
   "outputs": [],
   "source": [
    "solver = problem.build_solver()"
   ]
  },
  {
   "cell_type": "code",
   "execution_count": null,
   "id": "a302914c",
   "metadata": {},
   "outputs": [],
   "source": [
    "for system in ['subsystems', 'solvers']:\n",
    "    logging.getLogger(system).setLevel(logging.WARNING)\n",
    "\n",
    "solver.solve_dense(solver.subproblems[0])\n",
    "eigenvalues = np.sort(solver.eigenvalues.real)"
   ]
  },
  {
   "cell_type": "code",
   "execution_count": null,
   "id": "70305417",
   "metadata": {},
   "outputs": [],
   "source": [
    "fig, ax = plt.subplots()\n",
    "ax.scatter(np.arange(nz//16-1)+1,eigenvalues[1:nz//16])\n",
    "ax.set_yscale('log')"
   ]
  },
  {
   "cell_type": "markdown",
   "id": "8354845a",
   "metadata": {},
   "source": [
    "Searching for the Critical Rayleigh number\n",
    "-------------------------------------------------\n",
    "\n",
    "First we search for the critical Rayleigh number $R$ on a discrete $a$ grid.  We use geomspace to create a log-spaced grid, since we're not sure where the minimum lies, and log-spaced grids are generally an efficient way to quickly sample a space."
   ]
  },
  {
   "cell_type": "code",
   "execution_count": null,
   "id": "d045c48f",
   "metadata": {},
   "outputs": [],
   "source": [
    "a_set = np.geomspace(0.5, 10, num=10)\n",
    "crit_ra = []\n",
    "for a_i in a_set:\n",
    "    a['g'] = a_i\n",
    "    solver = problem.build_solver()\n",
    "    solver.solve_dense(solver.subproblems[0])\n",
    "    eigenvalues = np.sort(solver.eigenvalues.real)\n",
    "    crit_ra.append(eigenvalues[np.argmin(np.abs(eigenvalues))])\n",
    "\n",
    "ra_min_discrete = np.min(crit_ra)\n",
    "a_min_discrete = a_set[np.argmin(crit_ra)]"
   ]
  },
  {
   "cell_type": "markdown",
   "id": "316fb658",
   "metadata": {},
   "source": [
    "Having found the minimal critical Ra on the discrete grid, we now use a continuous minimizer (from `scipy.optimize`) to search for a higher accuracy critical Ra."
   ]
  },
  {
   "cell_type": "code",
   "execution_count": null,
   "id": "5443324c",
   "metadata": {},
   "outputs": [],
   "source": [
    "from scipy.optimize import minimize\n",
    "\n",
    "# stub function to assign new a, compute Ra, return min(Ra)\n",
    "def crit_ra_finder(a_i):\n",
    "    a['g'] = a_i\n",
    "    solver = problem.build_solver()\n",
    "    solver.solve_dense(solver.subproblems[0])\n",
    "    eigenvalues = np.sort(solver.eigenvalues.real)\n",
    "    return eigenvalues[np.argmin(np.abs(eigenvalues))]\n",
    "\n",
    "# this runs the minimization\n",
    "crit_ra_minimizer = minimize(crit_ra_finder, a_min_discrete)\n",
    "\n",
    "ra_min = crit_ra_minimizer.fun\n",
    "a_min = crit_ra_minimizer.x[0]"
   ]
  },
  {
   "cell_type": "code",
   "execution_count": null,
   "id": "18b276da",
   "metadata": {},
   "outputs": [],
   "source": [
    "fig, ax = plt.subplots()\n",
    "ax.scatter(a_set, crit_ra)\n",
    "ax.plot(a_set, crit_ra)\n",
    "ax.scatter(a_min_discrete, ra_min_discrete, label='discrete min',zorder=5)\n",
    "ax.scatter(a_min, ra_min, marker='*', label='min', zorder=5, s=100, c='xkcd:dark red')\n",
    "ax.set_xlabel('a')\n",
    "ax.set_ylabel('Ra')\n",
    "ax.legend()"
   ]
  },
  {
   "cell_type": "markdown",
   "id": "e1d0b9e2",
   "metadata": {},
   "source": [
    "Now, let's compare our critical Ra determined from the discrete grid and from the optimized search (the minimizer) with the literature values from Chandrasekhar."
   ]
  },
  {
   "cell_type": "code",
   "execution_count": null,
   "id": "c64f1f6d",
   "metadata": {
    "scrolled": true
   },
   "outputs": [],
   "source": [
    "ra_Chandra=1707.762\n",
    "a_Chandra=3.117\n",
    "\n",
    "print(\"discrete solution:  Ra_min = {:10.8g} at a = {:6.4g}\".format(ra_min_discrete, a_min_discrete))\n",
    "print(\"optimized solution: Ra_min = {:10.8g} at a = {:6.4g}\".format(ra_min, a_min))\n",
    "print(\"Chandrasekhar:      Ra_min = {:10.8g} at a = {:6.4g}\".format(ra_Chandra, a_Chandra))"
   ]
  }
 ],
 "metadata": {
  "kernelspec": {
   "display_name": "Python 3 (ipykernel)",
   "language": "python",
   "name": "python3"
  },
  "language_info": {
   "codemirror_mode": {
    "name": "ipython",
    "version": 3
   },
   "file_extension": ".py",
   "mimetype": "text/x-python",
   "name": "python",
   "nbconvert_exporter": "python",
   "pygments_lexer": "ipython3",
   "version": "3.8.10"
  }
 },
 "nbformat": 4,
 "nbformat_minor": 5
}
